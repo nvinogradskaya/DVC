{
 "cells": [
  {
   "cell_type": "code",
   "execution_count": 72,
   "id": "d1c9621b-c580-4c8d-a7c6-7830d1858597",
   "metadata": {
    "tags": []
   },
   "outputs": [],
   "source": [
    "import pandas as pd\n",
    "from sklearn.model_selection import train_test_split\n",
    "from sklearn.preprocessing import StandardScaler\n",
    "from sklearn.metrics import accuracy_score, precision_score, recall_score, f1_score, confusion_matrix\n",
    "import pickle\n",
    "import yaml"
   ]
  },
  {
   "cell_type": "code",
   "execution_count": 73,
   "id": "8ad11218-c57e-4805-8bfb-67cb7ce59241",
   "metadata": {
    "tags": []
   },
   "outputs": [],
   "source": [
    "from sklearn.preprocessing import LabelEncoder"
   ]
  },
  {
   "cell_type": "code",
   "execution_count": 74,
   "id": "8e578d4b-bf62-42c0-8ffb-224fd64c675a",
   "metadata": {
    "tags": []
   },
   "outputs": [],
   "source": [
    "SEED: int = 42\n",
    "TEST_SIZE: float = 0.2\n",
    "PENALTY: str = 'l2' \n",
    "DATA: str = 'iris.csv'\n",
    "C: float = 1.0\n",
    "MULTI_CLASS: str = 'multinomial'\n",
    "target = 'target'\n",
    "df = pd.read_csv(DATA)"
   ]
  },
  {
   "cell_type": "code",
   "execution_count": 75,
   "id": "30cb7635-0e84-474a-bada-ec4a998129ea",
   "metadata": {
    "tags": []
   },
   "outputs": [],
   "source": [
    "features = list(df.columns)\n",
    "features.remove(target)\n",
    "X = df[features]\n",
    "y = df[target]"
   ]
  },
  {
   "cell_type": "code",
   "execution_count": 76,
   "id": "729ed796-1ce5-4ef6-a4c5-b966bfce8303",
   "metadata": {
    "tags": []
   },
   "outputs": [],
   "source": [
    "le = LabelEncoder()\n",
    "le.fit(y)\n",
    "y = le.fit_transform(y)"
   ]
  },
  {
   "cell_type": "code",
   "execution_count": 77,
   "id": "d7d02bab-5ec7-45dd-9f08-62d47dbc8372",
   "metadata": {
    "tags": []
   },
   "outputs": [],
   "source": [
    "X_train, X_test, y_train, y_test = train_test_split(\n",
    "    X, y, test_size=TEST_SIZE, random_state=SEED)"
   ]
  },
  {
   "cell_type": "code",
   "execution_count": 78,
   "id": "009df57c-0e14-47fb-ab3d-b1ab0bf612ea",
   "metadata": {
    "tags": []
   },
   "outputs": [],
   "source": [
    "sc = StandardScaler()\n",
    "sc.fit(X_train)\n",
    "X_train_std = sc.transform(X_train)\n",
    "X_test_std = sc.transform(X_test)"
   ]
  },
  {
   "cell_type": "code",
   "execution_count": 79,
   "id": "4fe01c8d-6ec1-4396-9b83-aa52a105a5c6",
   "metadata": {
    "tags": []
   },
   "outputs": [],
   "source": [
    "from sklearn.linear_model import LogisticRegression\n",
    "from sklearn.metrics import accuracy_score, precision_score, recall_score, f1_score, confusion_matrix"
   ]
  },
  {
   "cell_type": "code",
   "execution_count": 80,
   "id": "7132a0c3-0643-4b88-bcb6-b5cb70296a52",
   "metadata": {
    "tags": []
   },
   "outputs": [
    {
     "data": {
      "text/html": [
       "<style>#sk-container-id-4 {color: black;}#sk-container-id-4 pre{padding: 0;}#sk-container-id-4 div.sk-toggleable {background-color: white;}#sk-container-id-4 label.sk-toggleable__label {cursor: pointer;display: block;width: 100%;margin-bottom: 0;padding: 0.3em;box-sizing: border-box;text-align: center;}#sk-container-id-4 label.sk-toggleable__label-arrow:before {content: \"▸\";float: left;margin-right: 0.25em;color: #696969;}#sk-container-id-4 label.sk-toggleable__label-arrow:hover:before {color: black;}#sk-container-id-4 div.sk-estimator:hover label.sk-toggleable__label-arrow:before {color: black;}#sk-container-id-4 div.sk-toggleable__content {max-height: 0;max-width: 0;overflow: hidden;text-align: left;background-color: #f0f8ff;}#sk-container-id-4 div.sk-toggleable__content pre {margin: 0.2em;color: black;border-radius: 0.25em;background-color: #f0f8ff;}#sk-container-id-4 input.sk-toggleable__control:checked~div.sk-toggleable__content {max-height: 200px;max-width: 100%;overflow: auto;}#sk-container-id-4 input.sk-toggleable__control:checked~label.sk-toggleable__label-arrow:before {content: \"▾\";}#sk-container-id-4 div.sk-estimator input.sk-toggleable__control:checked~label.sk-toggleable__label {background-color: #d4ebff;}#sk-container-id-4 div.sk-label input.sk-toggleable__control:checked~label.sk-toggleable__label {background-color: #d4ebff;}#sk-container-id-4 input.sk-hidden--visually {border: 0;clip: rect(1px 1px 1px 1px);clip: rect(1px, 1px, 1px, 1px);height: 1px;margin: -1px;overflow: hidden;padding: 0;position: absolute;width: 1px;}#sk-container-id-4 div.sk-estimator {font-family: monospace;background-color: #f0f8ff;border: 1px dotted black;border-radius: 0.25em;box-sizing: border-box;margin-bottom: 0.5em;}#sk-container-id-4 div.sk-estimator:hover {background-color: #d4ebff;}#sk-container-id-4 div.sk-parallel-item::after {content: \"\";width: 100%;border-bottom: 1px solid gray;flex-grow: 1;}#sk-container-id-4 div.sk-label:hover label.sk-toggleable__label {background-color: #d4ebff;}#sk-container-id-4 div.sk-serial::before {content: \"\";position: absolute;border-left: 1px solid gray;box-sizing: border-box;top: 0;bottom: 0;left: 50%;z-index: 0;}#sk-container-id-4 div.sk-serial {display: flex;flex-direction: column;align-items: center;background-color: white;padding-right: 0.2em;padding-left: 0.2em;position: relative;}#sk-container-id-4 div.sk-item {position: relative;z-index: 1;}#sk-container-id-4 div.sk-parallel {display: flex;align-items: stretch;justify-content: center;background-color: white;position: relative;}#sk-container-id-4 div.sk-item::before, #sk-container-id-4 div.sk-parallel-item::before {content: \"\";position: absolute;border-left: 1px solid gray;box-sizing: border-box;top: 0;bottom: 0;left: 50%;z-index: -1;}#sk-container-id-4 div.sk-parallel-item {display: flex;flex-direction: column;z-index: 1;position: relative;background-color: white;}#sk-container-id-4 div.sk-parallel-item:first-child::after {align-self: flex-end;width: 50%;}#sk-container-id-4 div.sk-parallel-item:last-child::after {align-self: flex-start;width: 50%;}#sk-container-id-4 div.sk-parallel-item:only-child::after {width: 0;}#sk-container-id-4 div.sk-dashed-wrapped {border: 1px dashed gray;margin: 0 0.4em 0.5em 0.4em;box-sizing: border-box;padding-bottom: 0.4em;background-color: white;}#sk-container-id-4 div.sk-label label {font-family: monospace;font-weight: bold;display: inline-block;line-height: 1.2em;}#sk-container-id-4 div.sk-label-container {text-align: center;}#sk-container-id-4 div.sk-container {/* jupyter's `normalize.less` sets `[hidden] { display: none; }` but bootstrap.min.css set `[hidden] { display: none !important; }` so we also need the `!important` here to be able to override the default hidden behavior on the sphinx rendered scikit-learn.org. See: https://github.com/scikit-learn/scikit-learn/issues/21755 */display: inline-block !important;position: relative;}#sk-container-id-4 div.sk-text-repr-fallback {display: none;}</style><div id=\"sk-container-id-4\" class=\"sk-top-container\"><div class=\"sk-text-repr-fallback\"><pre>LogisticRegression(multi_class=&#x27;multinomial&#x27;, random_state=42)</pre><b>In a Jupyter environment, please rerun this cell to show the HTML representation or trust the notebook. <br />On GitHub, the HTML representation is unable to render, please try loading this page with nbviewer.org.</b></div><div class=\"sk-container\" hidden><div class=\"sk-item\"><div class=\"sk-estimator sk-toggleable\"><input class=\"sk-toggleable__control sk-hidden--visually\" id=\"sk-estimator-id-4\" type=\"checkbox\" checked><label for=\"sk-estimator-id-4\" class=\"sk-toggleable__label sk-toggleable__label-arrow\">LogisticRegression</label><div class=\"sk-toggleable__content\"><pre>LogisticRegression(multi_class=&#x27;multinomial&#x27;, random_state=42)</pre></div></div></div></div></div>"
      ],
      "text/plain": [
       "LogisticRegression(multi_class='multinomial', random_state=42)"
      ]
     },
     "execution_count": 80,
     "metadata": {},
     "output_type": "execute_result"
    }
   ],
   "source": [
    "logistic_reg = LogisticRegression(C=C, random_state=SEED, penalty=PENALTY, multi_class=MULTI_CLASS)\n",
    "logistic_reg.fit(X_train_std, y_train)"
   ]
  },
  {
   "cell_type": "code",
   "execution_count": 81,
   "id": "fb2f81c1-ee49-4506-adb2-0918da85de5b",
   "metadata": {
    "tags": []
   },
   "outputs": [],
   "source": [
    "preds = logistic_reg.predict(X_test_std)"
   ]
  },
  {
   "cell_type": "code",
   "execution_count": 82,
   "id": "fc64d8dd-24ff-400b-9732-ccaa61ec7a5f",
   "metadata": {
    "tags": []
   },
   "outputs": [],
   "source": [
    "accuracy = accuracy_score(y_test, preds)\n",
    "precision = precision_score(y_test, preds, average='micro')\n",
    "recall = recall_score(y_test, preds, average='micro')\n",
    "f1 = f1_score(y_test, preds, average='micro')"
   ]
  },
  {
   "cell_type": "code",
   "execution_count": 83,
   "id": "1934311b-0156-4f6e-ac2c-042d410c3091",
   "metadata": {
    "tags": []
   },
   "outputs": [],
   "source": [
    "metrics = {}\n",
    "metrics['accuracy_lr'] = float(accuracy)\n",
    "metrics['precision_lr'] = float(precision)\n",
    "metrics['recall_lr'] = float(recall)\n",
    "metrics['f1_lr'] = float(f1)"
   ]
  },
  {
   "cell_type": "code",
   "execution_count": 84,
   "id": "41c01281-a3d0-4d94-87a8-729169cfdb91",
   "metadata": {
    "tags": []
   },
   "outputs": [],
   "source": [
    "with open('metrics_lr.yaml', 'w') as file:\n",
    "    yaml.dump(metrics, file, default_flow_style=False)"
   ]
  },
  {
   "cell_type": "code",
   "execution_count": 85,
   "id": "48004ff9-2b02-4993-aa12-87bb8882bc63",
   "metadata": {
    "tags": []
   },
   "outputs": [],
   "source": [
    "test_classes = pd.DataFrame()\n",
    "test_classes['actual_class'] = le.inverse_transform(y_test)\n",
    "test_classes['predicted_class'] = le.inverse_transform(preds)\n"
   ]
  },
  {
   "cell_type": "code",
   "execution_count": 86,
   "id": "7e5dc775-6076-41d0-9630-2897e458687c",
   "metadata": {
    "tags": []
   },
   "outputs": [],
   "source": [
    "test_classes.to_csv('test_classes_lr.csv', index=False)\n"
   ]
  },
  {
   "cell_type": "code",
   "execution_count": 87,
   "id": "f2551b74-beeb-4c56-8a21-2dcb9cd92251",
   "metadata": {
    "tags": []
   },
   "outputs": [],
   "source": [
    "train_classes = pd.DataFrame()\n",
    "train_classes['actual_class'] = le.inverse_transform(y_train)\n",
    "train_classes['predicted_class'] = le.inverse_transform(logistic_reg.predict(X_train_std))"
   ]
  },
  {
   "cell_type": "code",
   "execution_count": 88,
   "id": "902e54c8-1d25-49d1-a0a8-3d4ccdf60aa7",
   "metadata": {
    "tags": []
   },
   "outputs": [],
   "source": [
    "train_classes.to_csv('train_classes_lr.csv', index=False)"
   ]
  },
  {
   "cell_type": "code",
   "execution_count": 89,
   "id": "37aa0bfe-1c8f-4341-917e-e53db9c26123",
   "metadata": {
    "tags": []
   },
   "outputs": [],
   "source": [
    "import pickle\n",
    "with open('model_lr.pckl', 'wb') as file:\n",
    "    pickle.dump(logistic_reg, file)"
   ]
  },
  {
   "cell_type": "code",
   "execution_count": null,
   "id": "c8ad1df3-d9aa-443c-badb-77e24b428440",
   "metadata": {},
   "outputs": [],
   "source": []
  }
 ],
 "metadata": {
  "kernelspec": {
   "display_name": "Python 3 (ipykernel)",
   "language": "python",
   "name": "python3"
  },
  "language_info": {
   "codemirror_mode": {
    "name": "ipython",
    "version": 3
   },
   "file_extension": ".py",
   "mimetype": "text/x-python",
   "name": "python",
   "nbconvert_exporter": "python",
   "pygments_lexer": "ipython3",
   "version": "3.8.18"
  }
 },
 "nbformat": 4,
 "nbformat_minor": 5
}
