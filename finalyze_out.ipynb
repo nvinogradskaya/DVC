{
 "cells": [
  {
   "cell_type": "code",
   "execution_count": 1,
   "id": "0b5fad67",
   "metadata": {
    "execution": {
     "iopub.execute_input": "2023-12-22T23:39:33.614259Z",
     "iopub.status.busy": "2023-12-22T23:39:33.613646Z",
     "iopub.status.idle": "2023-12-22T23:39:34.769440Z",
     "shell.execute_reply": "2023-12-22T23:39:34.768448Z"
    },
    "papermill": {
     "duration": 1.172532,
     "end_time": "2023-12-22T23:39:34.772986",
     "exception": false,
     "start_time": "2023-12-22T23:39:33.600454",
     "status": "completed"
    },
    "tags": []
   },
   "outputs": [],
   "source": [
    "import yaml\n",
    "import pandas as pd\n",
    "import numpy as np"
   ]
  },
  {
   "cell_type": "code",
   "execution_count": 2,
   "id": "868be6a1",
   "metadata": {
    "execution": {
     "iopub.execute_input": "2023-12-22T23:39:34.781653Z",
     "iopub.status.busy": "2023-12-22T23:39:34.781135Z",
     "iopub.status.idle": "2023-12-22T23:39:34.802611Z",
     "shell.execute_reply": "2023-12-22T23:39:34.801410Z"
    },
    "papermill": {
     "duration": 0.02983,
     "end_time": "2023-12-22T23:39:34.807110",
     "exception": false,
     "start_time": "2023-12-22T23:39:34.777280",
     "status": "completed"
    },
    "tags": []
   },
   "outputs": [
    {
     "data": {
      "text/html": [
       "<div>\n",
       "<style scoped>\n",
       "    .dataframe tbody tr th:only-of-type {\n",
       "        vertical-align: middle;\n",
       "    }\n",
       "\n",
       "    .dataframe tbody tr th {\n",
       "        vertical-align: top;\n",
       "    }\n",
       "\n",
       "    .dataframe thead th {\n",
       "        text-align: right;\n",
       "    }\n",
       "</style>\n",
       "<table border=\"1\" class=\"dataframe\">\n",
       "  <thead>\n",
       "    <tr style=\"text-align: right;\">\n",
       "      <th></th>\n",
       "      <th>accuracy_rf</th>\n",
       "      <th>f1_rf</th>\n",
       "      <th>precision_rf</th>\n",
       "      <th>recall_rf</th>\n",
       "    </tr>\n",
       "  </thead>\n",
       "  <tbody>\n",
       "    <tr>\n",
       "      <th>0</th>\n",
       "      <td>1.0</td>\n",
       "      <td>1.0</td>\n",
       "      <td>1.0</td>\n",
       "      <td>1.0</td>\n",
       "    </tr>\n",
       "  </tbody>\n",
       "</table>\n",
       "</div>"
      ],
      "text/plain": [
       "   accuracy_rf  f1_rf  precision_rf  recall_rf\n",
       "0          1.0    1.0           1.0        1.0"
      ]
     },
     "execution_count": 2,
     "metadata": {},
     "output_type": "execute_result"
    }
   ],
   "source": [
    "with open('metrics_random_forest.yaml', 'r') as file:\n",
    "    yaml_data = yaml.safe_load(file)\n",
    "\n",
    "\n",
    "metrics_rf = pd.json_normalize(yaml_data)\n",
    "metrics_rf"
   ]
  },
  {
   "cell_type": "code",
   "execution_count": 3,
   "id": "417c4a68",
   "metadata": {
    "execution": {
     "iopub.execute_input": "2023-12-22T23:39:34.814632Z",
     "iopub.status.busy": "2023-12-22T23:39:34.813944Z",
     "iopub.status.idle": "2023-12-22T23:39:34.825108Z",
     "shell.execute_reply": "2023-12-22T23:39:34.823627Z"
    },
    "papermill": {
     "duration": 0.017046,
     "end_time": "2023-12-22T23:39:34.827570",
     "exception": false,
     "start_time": "2023-12-22T23:39:34.810524",
     "status": "completed"
    },
    "tags": []
   },
   "outputs": [
    {
     "data": {
      "text/html": [
       "<div>\n",
       "<style scoped>\n",
       "    .dataframe tbody tr th:only-of-type {\n",
       "        vertical-align: middle;\n",
       "    }\n",
       "\n",
       "    .dataframe tbody tr th {\n",
       "        vertical-align: top;\n",
       "    }\n",
       "\n",
       "    .dataframe thead th {\n",
       "        text-align: right;\n",
       "    }\n",
       "</style>\n",
       "<table border=\"1\" class=\"dataframe\">\n",
       "  <thead>\n",
       "    <tr style=\"text-align: right;\">\n",
       "      <th></th>\n",
       "      <th>accuracy_rf</th>\n",
       "      <th>precision_rf</th>\n",
       "      <th>recall_rf</th>\n",
       "      <th>f1_rf</th>\n",
       "    </tr>\n",
       "  </thead>\n",
       "  <tbody>\n",
       "    <tr>\n",
       "      <th>0</th>\n",
       "      <td>1.0</td>\n",
       "      <td>1.0</td>\n",
       "      <td>1.0</td>\n",
       "      <td>1.0</td>\n",
       "    </tr>\n",
       "  </tbody>\n",
       "</table>\n",
       "</div>"
      ],
      "text/plain": [
       "   accuracy_rf  precision_rf  recall_rf  f1_rf\n",
       "0          1.0           1.0        1.0    1.0"
      ]
     },
     "execution_count": 3,
     "metadata": {},
     "output_type": "execute_result"
    }
   ],
   "source": [
    "metrics_rf = metrics_rf[['accuracy_rf', 'precision_rf', 'recall_rf', 'f1_rf']]\n",
    "metrics_rf"
   ]
  },
  {
   "cell_type": "code",
   "execution_count": 4,
   "id": "f5b9465e",
   "metadata": {
    "execution": {
     "iopub.execute_input": "2023-12-22T23:39:34.832998Z",
     "iopub.status.busy": "2023-12-22T23:39:34.832681Z",
     "iopub.status.idle": "2023-12-22T23:39:34.843968Z",
     "shell.execute_reply": "2023-12-22T23:39:34.843194Z"
    },
    "papermill": {
     "duration": 0.017318,
     "end_time": "2023-12-22T23:39:34.846886",
     "exception": false,
     "start_time": "2023-12-22T23:39:34.829568",
     "status": "completed"
    },
    "tags": []
   },
   "outputs": [
    {
     "data": {
      "text/html": [
       "<div>\n",
       "<style scoped>\n",
       "    .dataframe tbody tr th:only-of-type {\n",
       "        vertical-align: middle;\n",
       "    }\n",
       "\n",
       "    .dataframe tbody tr th {\n",
       "        vertical-align: top;\n",
       "    }\n",
       "\n",
       "    .dataframe thead th {\n",
       "        text-align: right;\n",
       "    }\n",
       "</style>\n",
       "<table border=\"1\" class=\"dataframe\">\n",
       "  <thead>\n",
       "    <tr style=\"text-align: right;\">\n",
       "      <th></th>\n",
       "      <th>accuracy_lr</th>\n",
       "      <th>f1_lr</th>\n",
       "      <th>precision_lr</th>\n",
       "      <th>recall_lr</th>\n",
       "    </tr>\n",
       "  </thead>\n",
       "  <tbody>\n",
       "    <tr>\n",
       "      <th>0</th>\n",
       "      <td>1.0</td>\n",
       "      <td>1.0</td>\n",
       "      <td>1.0</td>\n",
       "      <td>1.0</td>\n",
       "    </tr>\n",
       "  </tbody>\n",
       "</table>\n",
       "</div>"
      ],
      "text/plain": [
       "   accuracy_lr  f1_lr  precision_lr  recall_lr\n",
       "0          1.0    1.0           1.0        1.0"
      ]
     },
     "execution_count": 4,
     "metadata": {},
     "output_type": "execute_result"
    }
   ],
   "source": [
    "with open('metrics_lr.yaml', 'r') as file:\n",
    "    yaml_data = yaml.safe_load(file)\n",
    "\n",
    "# Convert YAML data to DataFrame\n",
    "metrics_lr = pd.json_normalize(yaml_data)\n",
    "metrics_lr"
   ]
  },
  {
   "cell_type": "code",
   "execution_count": 5,
   "id": "829ce6f4",
   "metadata": {
    "execution": {
     "iopub.execute_input": "2023-12-22T23:39:34.855690Z",
     "iopub.status.busy": "2023-12-22T23:39:34.855293Z",
     "iopub.status.idle": "2023-12-22T23:39:34.866339Z",
     "shell.execute_reply": "2023-12-22T23:39:34.865467Z"
    },
    "papermill": {
     "duration": 0.017511,
     "end_time": "2023-12-22T23:39:34.868457",
     "exception": false,
     "start_time": "2023-12-22T23:39:34.850946",
     "status": "completed"
    },
    "tags": []
   },
   "outputs": [
    {
     "data": {
      "text/html": [
       "<div>\n",
       "<style scoped>\n",
       "    .dataframe tbody tr th:only-of-type {\n",
       "        vertical-align: middle;\n",
       "    }\n",
       "\n",
       "    .dataframe tbody tr th {\n",
       "        vertical-align: top;\n",
       "    }\n",
       "\n",
       "    .dataframe thead th {\n",
       "        text-align: right;\n",
       "    }\n",
       "</style>\n",
       "<table border=\"1\" class=\"dataframe\">\n",
       "  <thead>\n",
       "    <tr style=\"text-align: right;\">\n",
       "      <th></th>\n",
       "      <th>accuracy_lr</th>\n",
       "      <th>precision_lr</th>\n",
       "      <th>recall_lr</th>\n",
       "      <th>f1_lr</th>\n",
       "    </tr>\n",
       "  </thead>\n",
       "  <tbody>\n",
       "    <tr>\n",
       "      <th>0</th>\n",
       "      <td>1.0</td>\n",
       "      <td>1.0</td>\n",
       "      <td>1.0</td>\n",
       "      <td>1.0</td>\n",
       "    </tr>\n",
       "  </tbody>\n",
       "</table>\n",
       "</div>"
      ],
      "text/plain": [
       "   accuracy_lr  precision_lr  recall_lr  f1_lr\n",
       "0          1.0           1.0        1.0    1.0"
      ]
     },
     "execution_count": 5,
     "metadata": {},
     "output_type": "execute_result"
    }
   ],
   "source": [
    "metrics_lr = metrics_lr[['accuracy_lr', 'precision_lr', 'recall_lr', 'f1_lr']]\n",
    "metrics_lr"
   ]
  },
  {
   "cell_type": "code",
   "execution_count": 6,
   "id": "bd7c58cb",
   "metadata": {
    "execution": {
     "iopub.execute_input": "2023-12-22T23:39:34.875087Z",
     "iopub.status.busy": "2023-12-22T23:39:34.874696Z",
     "iopub.status.idle": "2023-12-22T23:39:34.889370Z",
     "shell.execute_reply": "2023-12-22T23:39:34.888409Z"
    },
    "papermill": {
     "duration": 0.02155,
     "end_time": "2023-12-22T23:39:34.892436",
     "exception": false,
     "start_time": "2023-12-22T23:39:34.870886",
     "status": "completed"
    },
    "tags": []
   },
   "outputs": [
    {
     "data": {
      "text/html": [
       "<div>\n",
       "<style scoped>\n",
       "    .dataframe tbody tr th:only-of-type {\n",
       "        vertical-align: middle;\n",
       "    }\n",
       "\n",
       "    .dataframe tbody tr th {\n",
       "        vertical-align: top;\n",
       "    }\n",
       "\n",
       "    .dataframe thead th {\n",
       "        text-align: right;\n",
       "    }\n",
       "</style>\n",
       "<table border=\"1\" class=\"dataframe\">\n",
       "  <thead>\n",
       "    <tr style=\"text-align: right;\">\n",
       "      <th></th>\n",
       "      <th>Model</th>\n",
       "      <th>Accuracy</th>\n",
       "      <th>Precision</th>\n",
       "      <th>Recall</th>\n",
       "      <th>F1</th>\n",
       "    </tr>\n",
       "  </thead>\n",
       "  <tbody>\n",
       "    <tr>\n",
       "      <th>0</th>\n",
       "      <td>RandomForest</td>\n",
       "      <td>1.0</td>\n",
       "      <td>1.0</td>\n",
       "      <td>1.0</td>\n",
       "      <td>1.0</td>\n",
       "    </tr>\n",
       "    <tr>\n",
       "      <th>1</th>\n",
       "      <td>Logistic Regression</td>\n",
       "      <td>1.0</td>\n",
       "      <td>1.0</td>\n",
       "      <td>1.0</td>\n",
       "      <td>1.0</td>\n",
       "    </tr>\n",
       "  </tbody>\n",
       "</table>\n",
       "</div>"
      ],
      "text/plain": [
       "                 Model  Accuracy  Precision  Recall   F1\n",
       "0         RandomForest       1.0        1.0     1.0  1.0\n",
       "1  Logistic Regression       1.0        1.0     1.0  1.0"
      ]
     },
     "execution_count": 6,
     "metadata": {},
     "output_type": "execute_result"
    }
   ],
   "source": [
    "metrics = pd.DataFrame(columns=['Model', 'Accuracy', 'Precision', 'Recall', 'F1'])\n",
    "metrics.loc[0] = ['RandomForest', metrics_rf['accuracy_rf'][0], metrics_rf['precision_rf'][0], metrics_rf['recall_rf'][0], metrics_rf['f1_rf'][0]]\n",
    "metrics.loc[1] = ['Logistic Regression', metrics_lr['accuracy_lr'][0], metrics_lr['precision_lr'][0], metrics_lr['recall_lr'][0], metrics_lr['f1_lr'][0]]\n",
    "metrics"
   ]
  },
  {
   "cell_type": "code",
   "execution_count": 7,
   "id": "c1539894",
   "metadata": {
    "execution": {
     "iopub.execute_input": "2023-12-22T23:39:34.901271Z",
     "iopub.status.busy": "2023-12-22T23:39:34.899996Z",
     "iopub.status.idle": "2023-12-22T23:39:34.912492Z",
     "shell.execute_reply": "2023-12-22T23:39:34.911662Z"
    },
    "papermill": {
     "duration": 0.019858,
     "end_time": "2023-12-22T23:39:34.915013",
     "exception": false,
     "start_time": "2023-12-22T23:39:34.895155",
     "status": "completed"
    },
    "tags": []
   },
   "outputs": [],
   "source": [
    "metrics.to_csv('result.csv')"
   ]
  },
  {
   "cell_type": "code",
   "execution_count": 8,
   "id": "2a2414b6",
   "metadata": {
    "execution": {
     "iopub.execute_input": "2023-12-22T23:39:34.921527Z",
     "iopub.status.busy": "2023-12-22T23:39:34.921197Z",
     "iopub.status.idle": "2023-12-22T23:39:34.931877Z",
     "shell.execute_reply": "2023-12-22T23:39:34.931000Z"
    },
    "papermill": {
     "duration": 0.017049,
     "end_time": "2023-12-22T23:39:34.934811",
     "exception": false,
     "start_time": "2023-12-22T23:39:34.917762",
     "status": "completed"
    },
    "tags": []
   },
   "outputs": [],
   "source": [
    "for x in ['Accuracy', 'Precision', 'Recall', 'F1']:\n",
    "    metrics[['Model', x]].to_csv(f'{x}.csv')"
   ]
  },
  {
   "cell_type": "code",
   "execution_count": null,
   "id": "542ae78a",
   "metadata": {
    "papermill": {
     "duration": 0.002518,
     "end_time": "2023-12-22T23:39:34.940047",
     "exception": false,
     "start_time": "2023-12-22T23:39:34.937529",
     "status": "completed"
    },
    "tags": []
   },
   "outputs": [],
   "source": []
  }
 ],
 "metadata": {
  "kernelspec": {
   "display_name": "Python 3 (ipykernel)",
   "language": "python",
   "name": "python3"
  },
  "language_info": {
   "codemirror_mode": {
    "name": "ipython",
    "version": 3
   },
   "file_extension": ".py",
   "mimetype": "text/x-python",
   "name": "python",
   "nbconvert_exporter": "python",
   "pygments_lexer": "ipython3",
   "version": "3.8.18"
  },
  "papermill": {
   "default_parameters": {},
   "duration": 4.933381,
   "end_time": "2023-12-22T23:39:35.277488",
   "environment_variables": {},
   "exception": null,
   "input_path": "finalyze.ipynb",
   "output_path": "finalyze_out.ipynb",
   "parameters": {},
   "start_time": "2023-12-22T23:39:30.344107",
   "version": "2.4.0"
  }
 },
 "nbformat": 4,
 "nbformat_minor": 5
}